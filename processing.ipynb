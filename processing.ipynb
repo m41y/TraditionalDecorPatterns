{
 "cells": [
  {
   "cell_type": "code",
   "execution_count": 12,
   "metadata": {},
   "outputs": [],
   "source": [
    "import pandas as pd\n",
    "from PIL import Image\n",
    "import os\n",
    "import shutil\n",
    "import matplotlib.pyplot as plt\n",
    "%matplotlib inline"
   ]
  },
  {
   "cell_type": "code",
   "execution_count": 3,
   "metadata": {},
   "outputs": [],
   "source": [
    "#path to traditional-decor-patterns direcotry\n",
    "# enter path as in example: decor_path='foo/foo2/bar/traditional-decor-patterns'\n",
    "decor_path= ''"
   ]
  },
  {
   "cell_type": "code",
   "execution_count": 4,
   "metadata": {},
   "outputs": [],
   "source": [
    "df = pd.read_csv(decor_path+\"/decor.csv\")"
   ]
  },
  {
   "cell_type": "code",
   "execution_count": 8,
   "metadata": {},
   "outputs": [
    {
     "data": {
      "text/html": [
       "<div>\n",
       "<style scoped>\n",
       "    .dataframe tbody tr th:only-of-type {\n",
       "        vertical-align: middle;\n",
       "    }\n",
       "\n",
       "    .dataframe tbody tr th {\n",
       "        vertical-align: top;\n",
       "    }\n",
       "\n",
       "    .dataframe thead th {\n",
       "        text-align: right;\n",
       "    }\n",
       "</style>\n",
       "<table border=\"1\" class=\"dataframe\">\n",
       "  <thead>\n",
       "    <tr style=\"text-align: right;\">\n",
       "      <th></th>\n",
       "      <th>country_label</th>\n",
       "      <th>country</th>\n",
       "      <th>decor_label</th>\n",
       "      <th>decor</th>\n",
       "      <th>type_label</th>\n",
       "      <th>type</th>\n",
       "      <th>file</th>\n",
       "    </tr>\n",
       "  </thead>\n",
       "  <tbody>\n",
       "    <tr>\n",
       "      <th>33</th>\n",
       "      <td>1</td>\n",
       "      <td>Russia</td>\n",
       "      <td>1</td>\n",
       "      <td>Gzhel</td>\n",
       "      <td>2</td>\n",
       "      <td>product</td>\n",
       "      <td>01_01_2_001.png</td>\n",
       "    </tr>\n",
       "    <tr>\n",
       "      <th>34</th>\n",
       "      <td>1</td>\n",
       "      <td>Russia</td>\n",
       "      <td>1</td>\n",
       "      <td>Gzhel</td>\n",
       "      <td>2</td>\n",
       "      <td>product</td>\n",
       "      <td>01_01_2_002.png</td>\n",
       "    </tr>\n",
       "    <tr>\n",
       "      <th>35</th>\n",
       "      <td>1</td>\n",
       "      <td>Russia</td>\n",
       "      <td>1</td>\n",
       "      <td>Gzhel</td>\n",
       "      <td>2</td>\n",
       "      <td>product</td>\n",
       "      <td>01_01_2_003.png</td>\n",
       "    </tr>\n",
       "    <tr>\n",
       "      <th>36</th>\n",
       "      <td>1</td>\n",
       "      <td>Russia</td>\n",
       "      <td>1</td>\n",
       "      <td>Gzhel</td>\n",
       "      <td>2</td>\n",
       "      <td>product</td>\n",
       "      <td>01_01_2_004.png</td>\n",
       "    </tr>\n",
       "    <tr>\n",
       "      <th>37</th>\n",
       "      <td>1</td>\n",
       "      <td>Russia</td>\n",
       "      <td>1</td>\n",
       "      <td>Gzhel</td>\n",
       "      <td>2</td>\n",
       "      <td>product</td>\n",
       "      <td>01_01_2_005.png</td>\n",
       "    </tr>\n",
       "  </tbody>\n",
       "</table>\n",
       "</div>"
      ],
      "text/plain": [
       "    country_label country  decor_label  decor  type_label     type  \\\n",
       "33              1  Russia            1  Gzhel           2  product   \n",
       "34              1  Russia            1  Gzhel           2  product   \n",
       "35              1  Russia            1  Gzhel           2  product   \n",
       "36              1  Russia            1  Gzhel           2  product   \n",
       "37              1  Russia            1  Gzhel           2  product   \n",
       "\n",
       "               file  \n",
       "33  01_01_2_001.png  \n",
       "34  01_01_2_002.png  \n",
       "35  01_01_2_003.png  \n",
       "36  01_01_2_004.png  \n",
       "37  01_01_2_005.png  "
      ]
     },
     "execution_count": 8,
     "metadata": {},
     "output_type": "execute_result"
    }
   ],
   "source": [
    "df.head()"
   ]
  },
  {
   "cell_type": "code",
   "execution_count": 5,
   "metadata": {},
   "outputs": [
    {
     "name": "stdout",
     "output_type": "stream",
     "text": [
      "entries type: pattern , product\n"
     ]
    }
   ],
   "source": [
    "print(\"entries type: \"+\" , \".join(str(x) for x in df.type.unique()))"
   ]
  },
  {
   "cell_type": "code",
   "execution_count": 6,
   "metadata": {},
   "outputs": [],
   "source": [
    "#deleting pattern type from data frame, as said in exercise clasificator must contain only products\n",
    "df = df[df['type'] == 'product']"
   ]
  },
  {
   "cell_type": "code",
   "execution_count": 15,
   "metadata": {},
   "outputs": [
    {
     "data": {
      "text/plain": [
       "(285, 7)"
      ]
     },
     "execution_count": 15,
     "metadata": {},
     "output_type": "execute_result"
    }
   ],
   "source": [
    "df.shape"
   ]
  },
  {
   "cell_type": "code",
   "execution_count": 10,
   "metadata": {},
   "outputs": [
    {
     "data": {
      "text/plain": [
       "'Decor categories: Gzhel , Khokhloma , Gorodets , Wycinanki łowickie , Wzory kaszubskie , Iznik , Neglyubka'"
      ]
     },
     "execution_count": 10,
     "metadata": {},
     "output_type": "execute_result"
    }
   ],
   "source": [
    "\"Decor categories: \"+\" , \".join(str(x) for x in df.decor.unique())"
   ]
  },
  {
   "cell_type": "code",
   "execution_count": 11,
   "metadata": {},
   "outputs": [
    {
     "data": {
      "text/plain": [
       "'Country categories: Russia , Poland , Turkey , Belarus'"
      ]
     },
     "execution_count": 11,
     "metadata": {},
     "output_type": "execute_result"
    }
   ],
   "source": [
    "\"Country categories: \"+\" , \".join(str(x) for x in df.country.unique())"
   ]
  },
  {
   "cell_type": "code",
   "execution_count": 13,
   "metadata": {},
   "outputs": [
    {
     "data": {
      "image/png": "[encoded data removed]",
      "text/plain": [
       "<matplotlib.figure.Figure at 0x7fbdb0d43ef0>"
      ]
     },
     "metadata": {},
     "output_type": "display_data"
    }
   ],
   "source": [
    "plt.figure(figsize=(10,10))\n",
    "plt.hist(df.country)\n",
    "plt.title(\"Country distribution\")\n",
    "plt.xlabel(\"Country\")\n",
    "plt.ylabel(\"Count\")\n",
    "plt.grid(True)\n",
    "plt.show()"
   ]
  },
  {
   "cell_type": "code",
   "execution_count": null,
   "metadata": {},
   "outputs": [],
   "source": [
    "#as seen in histogram above, categories in country categorisation\n",
    "#are highly imbalanced"
   ]
  },
  {
   "cell_type": "code",
   "execution_count": 18,
   "metadata": {},
   "outputs": [
    {
     "data": {
      "image/png": "[encoded data removed]",
      "text/plain": [
       "<matplotlib.figure.Figure at 0x7fbdaebc9a58>"
      ]
     },
     "metadata": {},
     "output_type": "display_data"
    }
   ],
   "source": [
    "plt.figure(figsize=(15,10))\n",
    "plt.hist(df.decor)\n",
    "plt.title(\"Decor distribution\")\n",
    "plt.xlabel(\"Decor\")\n",
    "plt.ylabel(\"Count\")\n",
    "plt.grid(True)\n",
    "plt.show()"
   ]
  },
  {
   "cell_type": "code",
   "execution_count": null,
   "metadata": {},
   "outputs": [],
   "source": [
    "#decor categories look better the country, but \"Neglyubka\" class \n",
    "#have only little above 10 images"
   ]
  },
  {
   "cell_type": "code",
   "execution_count": null,
   "metadata": {},
   "outputs": [],
   "source": [
    "#create directories for each category\n",
    "main_dir='country'\n",
    "if not os.path.exists(main_dir):\n",
    "    os.makedirs(main_dir)\n",
    "for directory in set(df.country):\n",
    "    if not os.path.exists(main_dir+'/'+directory):\n",
    "        os.makedirs(main_dir+'/'+directory)\n",
    "\n",
    "main_dir='decor'\n",
    "if not os.path.exists('decor'):\n",
    "    os.makedirs('decor')\n",
    "for directory in set(df.decor):\n",
    "    if not os.path.exists(main_dir+'/'+directory):\n",
    "        os.makedirs(main_dir+'/'+directory)"
   ]
  },
  {
   "cell_type": "code",
   "execution_count": null,
   "metadata": {},
   "outputs": [],
   "source": [
    "#create directories for jpeg images\n",
    "if not os.path.exists('jpegs'):\n",
    "    os.makedirs('jpegs')"
   ]
  },
  {
   "cell_type": "code",
   "execution_count": null,
   "metadata": {},
   "outputs": [],
   "source": [
    "#paths do image direcotires, png and jpegs\n",
    "png_path = decor_path+'/decor'\n",
    "jpeg_path= 'jpegs'"
   ]
  },
  {
   "cell_type": "code",
   "execution_count": null,
   "metadata": {},
   "outputs": [],
   "source": [
    "#converting .png to .jpg for retrain.py\n",
    "for i in range(len(df)):\n",
    "    im = Image.open(png_path+'/'+df.iloc[i].file)\n",
    "    im = im.convert(\"RGB\")\n",
    "    im.save(jpeg_path+'/'+df.iloc[i].file+'.jpg', 'JPEG')"
   ]
  },
  {
   "cell_type": "code",
   "execution_count": null,
   "metadata": {},
   "outputs": [],
   "source": [
    "#copy images to respective category directories\n",
    "for i in range(len(df)):\n",
    "    shutil.copy2('jpegs/'+df.iloc[i].file+'.jpg', 'country/'+df.iloc[i].country)\n",
    "    shutil.copy2('jpegs/'+df.iloc[i].file+'.jpg', 'decor/'+df.iloc[i].decor)"
   ]
  }
 ],
 "metadata": {},
 "nbformat": 4,
 "nbformat_minor": 2
}
